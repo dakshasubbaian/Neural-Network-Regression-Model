{
 "cells": [
  {
   "cell_type": "code",
   "execution_count": 9,
   "metadata": {},
   "outputs": [
    {
     "name": "stdout",
     "output_type": "stream",
     "text": [
      "Defaulting to user installation because normal site-packages is not writeable\n",
      "Requirement already satisfied: torch in c:\\users\\daksh\\appdata\\roaming\\python\\python312\\site-packages (2.8.0)\n",
      "Requirement already satisfied: filelock in c:\\programdata\\anaconda3\\lib\\site-packages (from torch) (3.13.1)\n",
      "Requirement already satisfied: typing-extensions>=4.10.0 in c:\\programdata\\anaconda3\\lib\\site-packages (from torch) (4.11.0)\n",
      "Requirement already satisfied: sympy>=1.13.3 in c:\\users\\daksh\\appdata\\roaming\\python\\python312\\site-packages (from torch) (1.14.0)\n",
      "Requirement already satisfied: networkx in c:\\programdata\\anaconda3\\lib\\site-packages (from torch) (3.3)\n",
      "Requirement already satisfied: jinja2 in c:\\programdata\\anaconda3\\lib\\site-packages (from torch) (3.1.4)\n",
      "Requirement already satisfied: fsspec in c:\\programdata\\anaconda3\\lib\\site-packages (from torch) (2024.6.1)\n",
      "Requirement already satisfied: setuptools in c:\\programdata\\anaconda3\\lib\\site-packages (from torch) (75.1.0)\n",
      "Requirement already satisfied: mpmath<1.4,>=1.1.0 in c:\\programdata\\anaconda3\\lib\\site-packages (from sympy>=1.13.3->torch) (1.3.0)\n",
      "Requirement already satisfied: MarkupSafe>=2.0 in c:\\programdata\\anaconda3\\lib\\site-packages (from jinja2->torch) (2.1.3)\n",
      "Note: you may need to restart the kernel to use updated packages.\n"
     ]
    }
   ],
   "source": [
    "pip install torch"
   ]
  },
  {
   "cell_type": "code",
   "execution_count": 12,
   "metadata": {
    "id": "4alj9BLXz5Cq"
   },
   "outputs": [],
   "source": [
    "import torch\n",
    "import torch.nn as nn\n",
    "import torch.optim as optim\n",
    "import pandas as pd\n",
    "from sklearn.model_selection import train_test_split\n",
    "from sklearn.preprocessing import MinMaxScaler"
   ]
  },
  {
   "cell_type": "code",
   "execution_count": 14,
   "metadata": {
    "id": "JUpOs3JNz-P1"
   },
   "outputs": [],
   "source": [
    "dataset1 = pd.read_csv('sample.csv')\n",
    "X = dataset1[['input']].values\n",
    "y = dataset1[['output']].values"
   ]
  },
  {
   "cell_type": "code",
   "execution_count": 17,
   "metadata": {
    "colab": {
     "base_uri": "https://localhost:8080/"
    },
    "id": "U9-DpVcW1OWx",
    "outputId": "a80a5270-d756-4467-9591-5105cdc3abd8"
   },
   "outputs": [
    {
     "name": "stdout",
     "output_type": "stream",
     "text": [
      "[[ 10]\n",
      " [ 20]\n",
      " [ 30]\n",
      " [ 40]\n",
      " [ 50]\n",
      " [ 60]\n",
      " [ 70]\n",
      " [ 80]\n",
      " [ 90]\n",
      " [100]\n",
      " [110]\n",
      " [120]\n",
      " [130]\n",
      " [140]\n",
      " [150]\n",
      " [160]\n",
      " [170]\n",
      " [180]\n",
      " [190]\n",
      " [200]]\n",
      "[[ 101]\n",
      " [ 201]\n",
      " [ 301]\n",
      " [ 401]\n",
      " [ 501]\n",
      " [ 601]\n",
      " [ 701]\n",
      " [ 801]\n",
      " [ 901]\n",
      " [1001]\n",
      " [1101]\n",
      " [1201]\n",
      " [1301]\n",
      " [1401]\n",
      " [1501]\n",
      " [1601]\n",
      " [1701]\n",
      " [1801]\n",
      " [1901]\n",
      " [2001]]\n"
     ]
    }
   ],
   "source": [
    "print(X)\n",
    "print(y)"
   ]
  },
  {
   "cell_type": "code",
   "execution_count": 18,
   "metadata": {
    "id": "PgncuiWl1Jsa"
   },
   "outputs": [],
   "source": [
    "from sklearn.model_selection import train_test_split\n",
    "X_train, X_test, y_train, y_test = train_test_split(X, y, test_size=0.33, random_state=33)"
   ]
  },
  {
   "cell_type": "code",
   "execution_count": 19,
   "metadata": {
    "id": "GbSujzKU3G8l"
   },
   "outputs": [],
   "source": [
    "scaler = MinMaxScaler()\n",
    "X_train = scaler.fit_transform(X_train)\n",
    "X_test = scaler.transform(X_test)"
   ]
  },
  {
   "cell_type": "code",
   "execution_count": 20,
   "metadata": {
    "id": "NVryHtMQ4ldC"
   },
   "outputs": [],
   "source": [
    "import torch"
   ]
  },
  {
   "cell_type": "code",
   "execution_count": 21,
   "metadata": {
    "id": "OTJYQBnf4pne"
   },
   "outputs": [],
   "source": [
    "X_train_tensor = torch.tensor(X_train, dtype=torch.float32)\n",
    "y_train_tensor = torch.tensor(y_train, dtype=torch.float32).view(-1, 1)\n",
    "X_test_tensor = torch.tensor(X_test, dtype=torch.float32)\n",
    "y_test_tensor = torch.tensor(y_test, dtype=torch.float32).view(-1, 1)"
   ]
  },
  {
   "cell_type": "code",
   "execution_count": 22,
   "metadata": {
    "id": "nMXmm0uZ166Z"
   },
   "outputs": [],
   "source": [
    "class NeuralNet(nn.Module):\n",
    "  def __init__(self):\n",
    "        super().__init__()\n",
    "        self.fc1 = nn.Linear(1, 12)\n",
    "        self.fc2 = nn.Linear(12, 10)\n",
    "        self.fc3 = nn.Linear(10, 14)\n",
    "        self.fc4 = nn.Linear(14, 1)\n",
    "        self.relu = nn.ReLU()\n",
    "        self.history={'loss':[]}\n",
    "\n",
    "  def forward(self, x):\n",
    "        x = self.relu(self.fc1(x))\n",
    "        x = self.relu(self.fc2(x))\n",
    "        x = self.relu(self.fc3(x))\n",
    "        x = self.fc4(x)\n",
    "        return x"
   ]
  },
  {
   "cell_type": "code",
   "execution_count": 23,
   "metadata": {
    "id": "GmCnMu0u3rvq"
   },
   "outputs": [],
   "source": [
    "daksha=NeuralNet()\n",
    "criterion = nn.MSELoss()\n",
    "optimizer = optim.RMSprop(daksha.parameters(), lr=0.001)"
   ]
  },
  {
   "cell_type": "code",
   "execution_count": 24,
   "metadata": {
    "id": "z1iE_8bm4YdW"
   },
   "outputs": [],
   "source": [
    "def train_model(daksha, X_train, y_train, criterion, optimizer, epochs=2000):\n",
    "    for epoch in range(epochs):\n",
    "        optimizer.zero_grad()\n",
    "        loss = criterion(daksha(X_train), y_train)\n",
    "        loss.backward()\n",
    "        optimizer.step()\n",
    "\n",
    "        daksha.history['loss'].append(loss.item())\n",
    "        if epoch % 200 == 0:\n",
    "            print(f'Epoch [{epoch}/{epochs}], Loss: {loss.item():.6f}')"
   ]
  },
  {
   "cell_type": "code",
   "execution_count": 25,
   "metadata": {
    "colab": {
     "base_uri": "https://localhost:8080/"
    },
    "id": "8p41TuPy4es6",
    "outputId": "2280c248-2f36-4e32-bab1-fbdcbcd7381a"
   },
   "outputs": [
    {
     "name": "stdout",
     "output_type": "stream",
     "text": [
      "Epoch [0/2000], Loss: 1284213.000000\n",
      "Epoch [200/2000], Loss: 1240270.750000\n",
      "Epoch [400/2000], Loss: 1027524.000000\n",
      "Epoch [600/2000], Loss: 635515.375000\n",
      "Epoch [800/2000], Loss: 264244.031250\n",
      "Epoch [1000/2000], Loss: 150645.562500\n",
      "Epoch [1200/2000], Loss: 128751.859375\n",
      "Epoch [1400/2000], Loss: 100495.359375\n",
      "Epoch [1600/2000], Loss: 70001.945312\n",
      "Epoch [1800/2000], Loss: 41243.785156\n"
     ]
    }
   ],
   "source": [
    "train_model(daksha, X_train_tensor, y_train_tensor, criterion, optimizer)\n"
   ]
  },
  {
   "cell_type": "code",
   "execution_count": 26,
   "metadata": {
    "colab": {
     "base_uri": "https://localhost:8080/"
    },
    "id": "9fD85Gpp4fTZ",
    "outputId": "3f0528ad-b357-4d87-957c-a83398e0ffeb"
   },
   "outputs": [
    {
     "name": "stdout",
     "output_type": "stream",
     "text": [
      "Test Loss: 20004.500000\n"
     ]
    }
   ],
   "source": [
    "with torch.no_grad():\n",
    "    test_loss = criterion(daksha(X_test_tensor), y_test_tensor)\n",
    "    print(f'Test Loss: {test_loss.item():.6f}')\n"
   ]
  },
  {
   "cell_type": "code",
   "execution_count": 27,
   "metadata": {
    "id": "RR-FWJ0W5oXt"
   },
   "outputs": [],
   "source": [
    "loss_df = pd.DataFrame(daksha.history)"
   ]
  },
  {
   "cell_type": "code",
   "execution_count": 28,
   "metadata": {
    "colab": {
     "base_uri": "https://localhost:8080/",
     "height": 472
    },
    "id": "uRLSTkSk5qgK",
    "outputId": "f5cb0788-d6c9-407f-af86-80cf9aabdc6e"
   },
   "outputs": [
    {
     "data": {
      "image/png": "[encoded data removed]",
      "text/plain": [
       "<Figure size 640x480 with 1 Axes>"
      ]
     },
     "metadata": {},
     "output_type": "display_data"
    }
   ],
   "source": [
    "import matplotlib.pyplot as plt\n",
    "loss_df.plot()\n",
    "plt.xlabel(\"Epochs\")\n",
    "plt.ylabel(\"Loss\")\n",
    "plt.title(\"Loss during Training\")\n",
    "plt.show()"
   ]
  },
  {
   "cell_type": "code",
   "execution_count": 32,
   "metadata": {
    "colab": {
     "base_uri": "https://localhost:8080/"
    },
    "id": "a4t-RSgA5r5P",
    "outputId": "dea3caf4-02fd-48d3-80a9-9880e16f14ad"
   },
   "outputs": [
    {
     "name": "stdout",
     "output_type": "stream",
     "text": [
      "Prediction: 816.1174926757812\n"
     ]
    }
   ],
   "source": [
    "X_n1_1 = torch.tensor([[70]], dtype=torch.float32)\n",
    "prediction = daksha(torch.tensor(scaler.transform(X_n1_1), dtype=torch.float32)).item()\n",
    "print(f'Prediction: {prediction}')"
   ]
  }
 ],
 "metadata": {
  "colab": {
   "provenance": []
  },
  "kernelspec": {
   "display_name": "Python 3 (ipykernel)",
   "language": "python",
   "name": "python3"
  },
  "language_info": {
   "codemirror_mode": {
    "name": "ipython",
    "version": 3
   },
   "file_extension": ".py",
   "mimetype": "text/x-python",
   "name": "python",
   "nbconvert_exporter": "python",
   "pygments_lexer": "ipython3",
   "version": "3.12.7"
  }
 },
 "nbformat": 4,
 "nbformat_minor": 4
}
